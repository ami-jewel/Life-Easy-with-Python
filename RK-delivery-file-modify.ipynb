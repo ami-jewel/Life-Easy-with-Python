{
 "cells": [
  {
   "cell_type": "code",
   "execution_count": 12,
   "id": "81276e50-5f6e-4cc3-bd8f-6fa5b9e2fbfa",
   "metadata": {},
   "outputs": [],
   "source": [
    "import pandas as pd\n",
    "from tkinter import Tk\n",
    "from tkinter.filedialog import askopenfilename"
   ]
  },
  {
   "cell_type": "code",
   "execution_count": 21,
   "id": "4f1728b6-a1e2-4bb7-9480-7b8bb0c09060",
   "metadata": {},
   "outputs": [],
   "source": [
    "# Hide the root window\n",
    "Tk().withdraw()\n",
    "\n",
    "# Open file picker dialog\n",
    "file_path = askopenfilename(title=\"Select Excel File\", filetypes=[(\"Excel files\", \"*.xlsx *.xls\")])"
   ]
  },
  {
   "cell_type": "code",
   "execution_count": 22,
   "id": "a5f3a169-edc6-4a54-ad76-20655d52472b",
   "metadata": {},
   "outputs": [
    {
     "name": "stdout",
     "output_type": "stream",
     "text": [
      "Loaded file: D:/TL Delivery/TL-Delivery Team/RK_Courier-25.06.2025 (June-24=76).xlsx\n",
      "   Ref. No      cdate        Gateway         zonename  wardname  \\\n",
      "0   162421 2025-06-24  Agent Banking  ৫ কারওয়ান বাজার        26   \n",
      "1   162422 2025-06-24  Agent Banking         ৪ মিরপুর        14   \n",
      "2   162423 2025-06-24  Agent Banking         ৪ মিরপুর        16   \n",
      "3   162424 2025-06-24  Agent Banking         ২ মিরপুর         5   \n",
      "4   162425 2025-06-24  Agent Banking         ৪ মিরপুর        12   \n",
      "\n",
      "                         businame                OwnerName          Mob  \\\n",
      "0              মুনতাহা বাণিজ্যালয়            মোঃ আবু তাহের  01831103490   \n",
      "1                মীর এন্টারপ্রাইজ        মীর মোশাররফ হোসেন  01811429288   \n",
      "2      মেসার্স এস এন এন্টারপ্রাইজ          মোঃ আরাফুল ইলাম  01735990503   \n",
      "3  এম. টি. আই কেমিক্যালস কোম্পানী  মোঃ আবুল কালাম আজাদ খান  01343878354   \n",
      "4                বেস্ট ওয়ে ট্রিমস         মোঃ আব্দুল খালেক  01943096070   \n",
      "\n",
      "                                             busiadd               TLNumber  \\\n",
      "0  ৩/ডি, কাব্যকস সুপার মার্কেট, কাওরান বাজার, তেজ...  TRAD/DNCC/049985/2024   \n",
      "1  বাঃ প্লট-৩৩, সেকশন-৬/খ, মেইন রোড-১, মিরপুর, ঢা...  TRAD/DNCC/049986/2024   \n",
      "2               ৮৫১ , ইব্রাহিমপুর, কাফরুল, ঢাকা-১২০৬  TRAD/DNCC/049988/2024   \n",
      "3  সেকশন-১১ ব্লক-ই, এভিনিউ-২, প্লট-আই/৮, পল্লবী ম...  TRAD/DNCC/049987/2024   \n",
      "4  প্লট-১০,১১,১৯,২১, ব্লক-বি, মেইন রোড, কলওয়ালাপা...  TRAD/DNCC/049989/2024   \n",
      "\n",
      "   TL Page  Print Code  UV Code PaymentType  \\\n",
      "0      NaN         NaN      NaN        APPL   \n",
      "1      NaN         NaN      NaN        APPL   \n",
      "2      NaN         NaN      NaN        APPL   \n",
      "3      NaN         NaN      NaN        APPL   \n",
      "4      NaN         NaN      NaN        APPL   \n",
      "\n",
      "                                            busitype  bookvalue  \n",
      "0                                   কাচামাল বিক্রেতা        270  \n",
      "1      সরবরাহকারী (দাহ্য পদার্থ ও ক্যামিকেল ব্যাতিত)        270  \n",
      "2      সরবরাহকারী (দাহ্য পদার্থ ও ক্যামিকেল ব্যাতিত)        270  \n",
      "3  আমদানী,রপ্তানী,সরবরাহকারী (দাহ্য পদার্থ ও ক্যা...        270  \n",
      "4                        গার্মেন্টস এক্সেসরিজ ব্যবসা        270  \n"
     ]
    }
   ],
   "source": [
    "# Load selected file\n",
    "df = pd.read_excel(file_path)\n",
    "\n",
    "print(f\"Loaded file: {file_path}\")\n",
    "print(df.head(5))"
   ]
  },
  {
   "cell_type": "code",
   "execution_count": 23,
   "id": "c59531ce-4e19-4fea-816b-1123b6c066cf",
   "metadata": {},
   "outputs": [],
   "source": [
    "# Format 'cdate' column to d-m-yy\n",
    "df['cdate'] = pd.to_datetime(df['cdate']).dt.strftime('%d-%m-%y')"
   ]
  },
  {
   "cell_type": "code",
   "execution_count": 24,
   "id": "c054c71d-89cc-4942-8da9-4b6f363e82ec",
   "metadata": {},
   "outputs": [],
   "source": [
    "# Add a new column 'product_type' with value 'trade_license'\n",
    "df['product_type'] = 'trade_license'"
   ]
  },
  {
   "cell_type": "code",
   "execution_count": 25,
   "id": "ce4975ec-d57b-444c-8e94-a275e51ba5e1",
   "metadata": {},
   "outputs": [],
   "source": [
    "# Remove hyphens from Mob column (though already done implicitly, we ensure it here)\n",
    "df['Mob'] = df['Mob'].str.replace('-', '', regex=False)"
   ]
  },
  {
   "cell_type": "code",
   "execution_count": 26,
   "id": "bb3ba2f7-b556-4d52-9cd8-2d3da519dff7",
   "metadata": {},
   "outputs": [
    {
     "data": {
      "text/html": [
       "<div>\n",
       "<style scoped>\n",
       "    .dataframe tbody tr th:only-of-type {\n",
       "        vertical-align: middle;\n",
       "    }\n",
       "\n",
       "    .dataframe tbody tr th {\n",
       "        vertical-align: top;\n",
       "    }\n",
       "\n",
       "    .dataframe thead th {\n",
       "        text-align: right;\n",
       "    }\n",
       "</style>\n",
       "<table border=\"1\" class=\"dataframe\">\n",
       "  <thead>\n",
       "    <tr style=\"text-align: right;\">\n",
       "      <th></th>\n",
       "      <th>Mob</th>\n",
       "    </tr>\n",
       "  </thead>\n",
       "  <tbody>\n",
       "    <tr>\n",
       "      <th>0</th>\n",
       "      <td>8801831103490</td>\n",
       "    </tr>\n",
       "    <tr>\n",
       "      <th>1</th>\n",
       "      <td>8801811429288</td>\n",
       "    </tr>\n",
       "    <tr>\n",
       "      <th>2</th>\n",
       "      <td>8801735990503</td>\n",
       "    </tr>\n",
       "    <tr>\n",
       "      <th>3</th>\n",
       "      <td>8801343878354</td>\n",
       "    </tr>\n",
       "    <tr>\n",
       "      <th>4</th>\n",
       "      <td>8801943096070</td>\n",
       "    </tr>\n",
       "    <tr>\n",
       "      <th>5</th>\n",
       "      <td>8801754784354</td>\n",
       "    </tr>\n",
       "    <tr>\n",
       "      <th>6</th>\n",
       "      <td>8801712657423</td>\n",
       "    </tr>\n",
       "    <tr>\n",
       "      <th>7</th>\n",
       "      <td>8801712710412</td>\n",
       "    </tr>\n",
       "    <tr>\n",
       "      <th>8</th>\n",
       "      <td>8801712209471</td>\n",
       "    </tr>\n",
       "    <tr>\n",
       "      <th>9</th>\n",
       "      <td>8801552385040</td>\n",
       "    </tr>\n",
       "  </tbody>\n",
       "</table>\n",
       "</div>"
      ],
      "text/plain": [
       "             Mob\n",
       "0  8801831103490\n",
       "1  8801811429288\n",
       "2  8801735990503\n",
       "3  8801343878354\n",
       "4  8801943096070\n",
       "5  8801754784354\n",
       "6  8801712657423\n",
       "7  8801712710412\n",
       "8  8801712209471\n",
       "9  8801552385040"
      ]
     },
     "execution_count": 26,
     "metadata": {},
     "output_type": "execute_result"
    }
   ],
   "source": [
    "# Add '88' before each number, ensuring no duplicate '88' if already present\n",
    "df['Mob'] = df['Mob'].astype(str).str.replace(r'\\D', '', regex=True).apply(lambda x: '88' + x if not x.startswith('88') else x)\n",
    "\n",
    "# Display updated mobile numbers\n",
    "df[['Mob']].head(10)"
   ]
  },
  {
   "cell_type": "code",
   "execution_count": 27,
   "id": "85a7be94-db06-4733-9c63-c2261a50c37e",
   "metadata": {},
   "outputs": [],
   "source": [
    "# Save to new Excel file\n",
    "output_path = 'RK-Courier-25.06.2025_Modified.xlsx'\n",
    "df.to_excel(output_path, index=False)"
   ]
  },
  {
   "cell_type": "code",
   "execution_count": null,
   "id": "9eb3c834-677f-4a56-8ae5-523e9ff3929a",
   "metadata": {},
   "outputs": [],
   "source": []
  }
 ],
 "metadata": {
  "kernelspec": {
   "display_name": "Python 3 (ipykernel)",
   "language": "python",
   "name": "python3"
  },
  "language_info": {
   "codemirror_mode": {
    "name": "ipython",
    "version": 3
   },
   "file_extension": ".py",
   "mimetype": "text/x-python",
   "name": "python",
   "nbconvert_exporter": "python",
   "pygments_lexer": "ipython3",
   "version": "3.13.1"
  }
 },
 "nbformat": 4,
 "nbformat_minor": 5
}
